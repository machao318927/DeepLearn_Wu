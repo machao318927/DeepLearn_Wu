{
 "cells": [
  {
   "metadata": {},
   "cell_type": "markdown",
   "source": [
    "RAG的核心思想是通过实时数据检索弥补这一缺陷——在生成答案前，系统先从外部数据源（如数据库、API或互联网）动态检索相关上下文，再结合LLM的知识生成更精准、实时的响应。但它们通常在处理动态、多步推理任务、适应性和复杂工作流的协调方面仍然存在不足。\n",
    "\n",
    "<img src=\"../picture/img_18.png\" width=\"70%\">\n",
    "\n",
    "1. 检索器（Retriever）：从外部数据源（如向量数据库、知识图谱或网页）中搜索与查询相关的信息。相关技术：如BM25关键词匹配、密集向量搜索等。\n",
    "2. 增强器（Augmenter）:对检索结果进行筛选、排序和整合，提取最相关的片段。相关技术：上下文重排序、多跳检索。\n",
    "3. 生成器（Generator）：将增强后的上下文与LLM的预训练知识结合，生成自然语言回答。确保回答连贯且忠实于检索内容，避免出现幻觉。"
   ],
   "id": "a78dfaf854a40bf3"
  },
  {
   "metadata": {},
   "cell_type": "markdown",
   "source": [
    "RAG范式演进\n",
    "\n",
    "<img src=\"../picture/img_19.png\" width=\"70%\">"
   ],
   "id": "1a5baebff866bbe2"
  }
 ],
 "metadata": {
  "kernelspec": {
   "display_name": "Python 3",
   "language": "python",
   "name": "python3"
  },
  "language_info": {
   "codemirror_mode": {
    "name": "ipython",
    "version": 2
   },
   "file_extension": ".py",
   "mimetype": "text/x-python",
   "name": "python",
   "nbconvert_exporter": "python",
   "pygments_lexer": "ipython2",
   "version": "2.7.6"
  }
 },
 "nbformat": 4,
 "nbformat_minor": 5
}
