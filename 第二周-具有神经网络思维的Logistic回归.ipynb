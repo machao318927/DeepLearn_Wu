{
 "cells": [
  {
   "metadata": {},
   "cell_type": "markdown",
   "source": "查看dataset的train部分",
   "id": "25bd888cf0088a82"
  },
  {
   "metadata": {
    "collapsed": true
   },
   "cell_type": "code",
   "source": [
    "import h5py\n",
    "import matplotlib.pyplot as plt\n",
    "\n",
    "with h5py.File('datasets/train_catvnoncat.h5', \"r\") as train_dataset:\n",
    "    # 列出所有组和数据集\n",
    "    # print(\"所有组和数据集：\")\n",
    "    # for name, obj in train_dataset.items():\n",
    "        # print(name, obj)\n",
    "\n",
    "    dataset_x = train_dataset['train_set_x']\n",
    "    dataset_y = train_dataset['train_set_y']\n",
    "    # print(dataset_x)\n",
    "    # print(dataset_y)\n",
    "\n",
    "    # 打印数据集内容\n",
    "    # 打印数据集的形状\n",
    "    # print(\"train_set_x的形状:\", dataset_x.shape)\n",
    "    # print(\"train_set_y的形状:\", dataset_y.shape)\n",
    "    # 打印数据集的前5个元素\n",
    "    # print(\"train_set_x前5个元素:\", dataset_x[:5])\n",
    "    # print(\"train_set_y前5个元素:\", dataset_y[:5])\n",
    "\n",
    "    # 分类标签\n",
    "    list_classes = train_dataset['list_classes']\n",
    "    # print(\"分类标签:\", list_classes[:])\n",
    "\n",
    "    # 可视化\n",
    "    # for i in range(10):\n",
    "    #     plt.figure(figsize=(2, 2))\n",
    "    #     plt.imshow(dataset_x[i])\n",
    "    #     plt.title(f\"Label: {list_classes[dataset_y[i]].decode()}\")\n",
    "    #     plt.axis('off')\n",
    "    #     plt.show()"
   ],
   "id": "initial_id",
   "outputs": [],
   "execution_count": null
  },
  {
   "metadata": {},
   "cell_type": "markdown",
   "source": "所需要的库",
   "id": "b1cce66368d4d2a1"
  },
  {
   "metadata": {
    "ExecuteTime": {
     "end_time": "2025-04-03T03:13:31.557163Z",
     "start_time": "2025-04-03T03:13:31.169771Z"
    }
   },
   "cell_type": "code",
   "source": [
    "import numpy as np\n",
    "import matplotlib.pyplot as plt\n",
    "import h5py"
   ],
   "id": "754dab6d72c8dd93",
   "outputs": [],
   "execution_count": 3
  },
  {
   "metadata": {},
   "cell_type": "markdown",
   "source": "训练数据加载函数",
   "id": "f847bdcba82e4fa6"
  },
  {
   "metadata": {
    "ExecuteTime": {
     "end_time": "2025-04-03T03:13:36.522898Z",
     "start_time": "2025-04-03T03:13:36.510597Z"
    }
   },
   "cell_type": "code",
   "source": [
    "def load_dataset():\n",
    "\n",
    "    # 读取训练集\n",
    "    train_dataset = h5py.File('datasets/train_catvnoncat.h5', \"r\")\n",
    "    train_set_x_orig = np.array(train_dataset['train_set_x'][:]) # 加 [:] 是把数据从 h5py.Dataset 转换为 numpy.ndarray;外层再用 np.array() 是为了确保类型一致（有时是冗余的，但保险）。\n",
    "    train_set_y_orig = np.array(train_dataset['train_set_y'][:])\n",
    "\n",
    "    # 读取测试集\n",
    "    test_dataset = h5py.File('datasets/test_catvnoncat.h5', \"r\")\n",
    "    test_set_x_orig = np.array(test_dataset['test_set_x'][:])\n",
    "    test_set_y_orig = np.array(test_dataset['test_set_y'][:])\n",
    "\n",
    "    # 获取类别标签\n",
    "    classes = np.array(test_dataset['list_classes'][:])\n",
    "\n",
    "    # 标签 reshape 处理\n",
    "    train_set_y_orig = train_set_y_orig.reshape((1, train_set_y_orig.shape[0])) # 原始标签形状是 (m,)，现在 reshape 成 (1, m)，很多神经网络实现中要求标签是形如 (1, m) 的二维数组\n",
    "    test_set_y_orig = test_set_y_orig.reshape((1, test_set_y_orig.shape[0]))\n",
    "\n",
    "    # 返回所有数据\n",
    "    return train_set_x_orig, train_set_y_orig, test_set_x_orig, test_set_y_orig, classes"
   ],
   "id": "3b780c03c3307aa6",
   "outputs": [],
   "execution_count": 5
  },
  {
   "metadata": {},
   "cell_type": "markdown",
   "source": "测试\n",
   "id": "95d5887dde162c8b"
  },
  {
   "metadata": {
    "ExecuteTime": {
     "end_time": "2025-04-03T03:13:38.206368Z",
     "start_time": "2025-04-03T03:13:38.182345Z"
    }
   },
   "cell_type": "code",
   "source": [
    "X_train, Y_train, X_test, Y_test, classes = load_dataset()\n",
    "print(\"训练集中包含图片数量：\", X_train.shape[0])\n",
    "print(\"每张图像的形状：\", X_train.shape[1:])"
   ],
   "id": "9fa55532b8275146",
   "outputs": [
    {
     "name": "stdout",
     "output_type": "stream",
     "text": [
      "训练集中包含图片数量： 209\n",
      "每张图像的形状： (64, 64, 3)\n"
     ]
    }
   ],
   "execution_count": 6
  },
  {
   "metadata": {},
   "cell_type": "markdown",
   "source": "把这些数据加载到主程序里面",
   "id": "11f980cc7ea9b8ac"
  },
  {
   "metadata": {
    "ExecuteTime": {
     "end_time": "2025-04-03T03:13:40.840486Z",
     "start_time": "2025-04-03T03:13:40.828710Z"
    }
   },
   "cell_type": "code",
   "source": "train_set_x_orig, train_set_y, test_set_x_orig, test_set_y, classes = load_dataset()\n",
   "id": "954f21f24c067f39",
   "outputs": [],
   "execution_count": 7
  },
  {
   "metadata": {},
   "cell_type": "markdown",
   "source": "查看一下训练集里面的第26张图片",
   "id": "979bc982e160e47f"
  },
  {
   "metadata": {
    "ExecuteTime": {
     "end_time": "2025-04-03T03:13:43.046502Z",
     "start_time": "2025-04-03T03:13:42.935959Z"
    }
   },
   "cell_type": "code",
   "source": [
    "index = 25\n",
    "print(\"标签：\", train_set_y[:, index])\n",
    "print(\"该图片对应的类别是：\", classes[np.squeeze(train_set_y[:, index])].decode(\"utf-8\"))\n",
    "plt.imshow(train_set_x_orig[index])"
   ],
   "id": "15ab68e859c211a1",
   "outputs": [
    {
     "name": "stdout",
     "output_type": "stream",
     "text": [
      "标签： [1]\n",
      "该图片对应的类别是： cat\n"
     ]
    },
    {
     "data": {
      "text/plain": [
       "<matplotlib.image.AxesImage at 0x22c3fb65b20>"
      ]
     },
     "execution_count": 8,
     "metadata": {},
     "output_type": "execute_result"
    },
    {
     "data": {
      "text/plain": [
       "<Figure size 640x480 with 1 Axes>"
      ],
      "image/png": "[encoded data removed]"
     },
     "metadata": {},
     "output_type": "display_data"
    }
   ],
   "execution_count": 8
  },
  {
   "metadata": {},
   "cell_type": "markdown",
   "source": "结合一下训练集里面的数据来看一下我到底都加载了一些什么东西",
   "id": "4a659151727957a3"
  },
  {
   "metadata": {
    "ExecuteTime": {
     "end_time": "2025-04-03T03:13:45.381011Z",
     "start_time": "2025-04-03T03:13:45.369435Z"
    }
   },
   "cell_type": "code",
   "source": [
    "#打印出当前的训练标签值\n",
    "#使用np.squeeze的目的是压缩维度，【未压缩】train_set_y[:,index]的值为[1] , 【压缩后】np.squeeze(train_set_y[:,index])的值为1\n",
    "#print(\"【使用np.squeeze：\" + str(np.squeeze(train_set_y[:,index])) + \"，不使用np.squeeze： \" + str(train_set_y[:,index]) + \"】\")\n",
    "#只有压缩后的值才能进行解码操作\n",
    "print(\"y=\" + str(train_set_y[:,index]) + \", it's a \" + classes[np.squeeze(train_set_y[:,index])].decode(\"utf-8\") + \"' picture\")"
   ],
   "id": "84907fd726f7db8b",
   "outputs": [
    {
     "name": "stdout",
     "output_type": "stream",
     "text": [
      "y=[1], it's a cat' picture\n"
     ]
    }
   ],
   "execution_count": 9
  },
  {
   "metadata": {},
   "cell_type": "markdown",
   "source": [
    "m_train ：训练集里图片的数量。\n",
    "\n",
    "m_test ：测试集里图片的数量。\n",
    "\n",
    "num_px ： 训练、测试集里面的图片的宽度和高度（均为64x64）。\n",
    "\n",
    "记住，train_set_x_orig 是一个维度为(m_train，num_px，num_px，3）的数组。"
   ],
   "id": "56e781ec66458b01"
  },
  {
   "metadata": {
    "ExecuteTime": {
     "end_time": "2025-04-03T03:13:47.751175Z",
     "start_time": "2025-04-03T03:13:47.743898Z"
    }
   },
   "cell_type": "code",
   "source": [
    "m_train = train_set_x_orig.shape[0]\n",
    "# print(m_train) # 209\n",
    "m_test = test_set_x_orig.shape[0]\n",
    "# print(m_test) # 50\n",
    "num_px = train_set_x_orig.shape[1]\n",
    "# print(num_px) # 64\n",
    "\n",
    "# 看一看我们加载的东西的具体情况\n",
    "print(\"训练集的数量: m_train = \" + str(m_train)) # 训练集的数量: m_train = 209\n",
    "print(\"测试集的数量 : m_test = \" + str(m_test)) # 测试集的数量 : m_test = 50\n",
    "print(\"每张图片的宽/高（均为）: num_px = \" + str(num_px)) # 每张图片的宽/高（均为）: num_px = 64\n",
    "print(\"每张图片的大小: (\" + str(num_px) + \", \" + str(num_px) + \", 3)\") # 每张图片的大小: (64, 64, 3)\n",
    "print(\"训练集_图片的维数: \" + str(train_set_x_orig.shape)) # 训练集_图片的维数: (209, 64, 64, 3)\n",
    "print(\"训练集_标签的维数: \" + str(train_set_y.shape)) # 训练集_标签的维数: (1, 209)\n",
    "print(\"测试集_图片的维数: \" + str(test_set_x_orig.shape)) # 测试集_图片的维数: (50, 64, 64, 3)\n",
    "print(\"测试集_标签的维数: \" + str(test_set_y.shape)) # 测试集_标签的维数: (1, 50)"
   ],
   "id": "88bf81514f451979",
   "outputs": [
    {
     "name": "stdout",
     "output_type": "stream",
     "text": [
      "训练集的数量: m_train = 209\n",
      "测试集的数量 : m_test = 50\n",
      "每张图片的宽/高（均为）: num_px = 64\n",
      "每张图片的大小: (64, 64, 3)\n",
      "训练集_图片的维数: (209, 64, 64, 3)\n",
      "训练集_标签的维数: (1, 209)\n",
      "测试集_图片的维数: (50, 64, 64, 3)\n",
      "测试集_标签的维数: (1, 50)\n"
     ]
    }
   ],
   "execution_count": 10
  },
  {
   "metadata": {},
   "cell_type": "markdown",
   "source": [
    "为了方便，我们要把维度为（64，64，3）的numpy数组重新构造为（64 x 64 x 3，1）的数组，要乘以3的原因是每张图片是由64x64像素构成的，而每个像素点由（R，G，B）三原色构成的，所以要乘以3。在此之后，我们的训练和测试数据集是一个numpy数组，【每列代表一个平坦的图像】 ，应该有m_train和m_test列。\n",
    "\n",
    "当你想将形状（a，b，c，d）的矩阵X平铺成形状（b * c * d，a）的矩阵X_flatten时，可以使用以下代码："
   ],
   "id": "e600eaf39bcf8a29"
  },
  {
   "metadata": {
    "ExecuteTime": {
     "end_time": "2025-04-03T03:13:50.163067Z",
     "start_time": "2025-04-03T03:13:50.145392Z"
    }
   },
   "cell_type": "code",
   "source": [
    "#X_flatten = X.reshape(X.shape [0]，-1).T ＃X.T是X的转置\n",
    "#将训练集的维度降低并转置。\n",
    "# print(train_set_x_orig.shape[0]) # 209\n",
    "train_set_x_flatten = train_set_x_orig.reshape(train_set_x_orig.shape[0], -1).T # 等价于train_set_x_flatten.shape == (209, 64×64×3) = (209, 12288)\n",
    "# print(\"train_set_x_flatten的形状：\" + str(train_set_x_flatten.shape)) # train_set_x_flatten的形状：(12288, 209)\n",
    "\n",
    "# print(\"============numpy中reshape自动推导规则==============\")\n",
    "# # 只要其他维度相乘后的结果能整除，它就能唯一地推导出那个缺省值是多少。\n",
    "# print(train_set_x_orig.size) # 2568192\n",
    "# print(12288 * 209) # 2568192\n",
    "\n",
    "test_set_x_flatten = test_set_x_orig.reshape(test_set_x_orig.shape[0], -1).T\n",
    "print(test_set_x_flatten.shape) # (12288, 50)"
   ],
   "id": "36165f5030b85713",
   "outputs": [
    {
     "name": "stdout",
     "output_type": "stream",
     "text": [
      "(12288, 50)\n"
     ]
    }
   ],
   "execution_count": 11
  },
  {
   "metadata": {},
   "cell_type": "markdown",
   "source": "看看降维之后的情况是怎么样的",
   "id": "fec740f0ff8d5bbd"
  },
  {
   "metadata": {
    "ExecuteTime": {
     "end_time": "2025-04-02T07:09:07.546145Z",
     "start_time": "2025-04-02T07:09:07.541741Z"
    }
   },
   "cell_type": "code",
   "source": [
    "print(\"训练集的降维后的数据：\" + str(train_set_x_flatten.shape))\n",
    "print(\"训练集_标签的维数：\" + str(train_set_y.shape))\n",
    "print(\"测试集的降维后的数据：\" + str(test_set_x_flatten.shape))\n",
    "print(\"测试集_标签的维数：\" + str(test_set_y.shape))"
   ],
   "id": "df9051b078b7ccdd",
   "outputs": [
    {
     "name": "stdout",
     "output_type": "stream",
     "text": [
      "训练集的降维后的数据：(12288, 209)\n",
      "训练集_标签的维数：(1, 209)\n",
      "测试集的降维后的数据：(12288, 50)\n",
      "测试集_标签的维数：(1, 50)\n"
     ]
    }
   ],
   "execution_count": 86
  },
  {
   "metadata": {},
   "cell_type": "markdown",
   "source": "为了表示彩色图像，必须为每个像素指定红色，绿色和蓝色通道（RGB），因此像素值实际上是从0到255范围内的三个数字的向量。机器学习中一个常见的预处理步骤是对数据集进行居中和标准化，这意味着可以减去每个示例中整个numpy数组的平均值，然后将每个示例除以整个numpy数组的标准偏差。但对于图片数据集，它更简单，更方便，几乎可以将数据集的每一行除以255（像素通道的最大值），因为在RGB中不存在比255大的数据，所以我们可以放心的除以255，让标准化的数据位于[0,1]之间，现在标准化我们的数据集：\n",
   "id": "7544657f69b68fc0"
  },
  {
   "metadata": {
    "ExecuteTime": {
     "end_time": "2025-04-03T03:13:56.273829Z",
     "start_time": "2025-04-03T03:13:56.254549Z"
    }
   },
   "cell_type": "code",
   "source": [
    "# print(train_set_x_flatten)\n",
    "train_set_x = train_set_x_flatten / 255\n",
    "# print(train_set_x)\n",
    "\n",
    "test_set_x = test_set_x_flatten / 255\n",
    "# print(test_set_x)"
   ],
   "id": "b0233f3608f22b2c",
   "outputs": [],
   "execution_count": 12
  },
  {
   "metadata": {},
   "cell_type": "markdown",
   "source": [
    "建立神经网络的主要步骤是：\n",
    "\n",
    "定义模型结构（例如输入特征的数量）\n",
    "\n",
    "初始化模型的参数\n",
    "\n",
    "循环：\n",
    "\n",
    "1. 计算当前损失（正向传播）\n",
    "\n",
    "2. 计算当前梯度（反向传播）\n",
    "\n",
    "3. 更新参数（梯度下降）"
   ],
   "id": "3a297df0daf0a5f3"
  },
  {
   "metadata": {},
   "cell_type": "markdown",
   "source": "现在构建sigmoid()，需要使用 sigmoid（w ^ T x + b） 计算来做出预测。",
   "id": "c782ea21b66e7b4b"
  },
  {
   "metadata": {
    "ExecuteTime": {
     "end_time": "2025-04-02T08:12:08.552539Z",
     "start_time": "2025-04-02T08:12:08.538548Z"
    }
   },
   "cell_type": "code",
   "source": [
    "def sigmoid(z):\n",
    "    \"\"\"\n",
    "    参数：\n",
    "        z  输入参数，数组\n",
    "\n",
    "    返回：\n",
    "        s  sigmoid(z)\n",
    "    \"\"\"\n",
    "    s = 1 / (1 + np.exp(-z))\n",
    "    return s\n",
    "\n",
    "# 测试sigmoid\n",
    "print(\"sigmoid(0) = \" + str(sigmoid(0)))\n",
    "print(\"sigmoid(9.2) = \" + str(sigmoid(9.2)))"
   ],
   "id": "976589ea2d6af035",
   "outputs": [
    {
     "name": "stdout",
     "output_type": "stream",
     "text": [
      "sigmoid(0) = 0.5\n",
      "sigmoid(9.2) = 0.9998989708060922\n"
     ]
    }
   ],
   "execution_count": 121
  },
  {
   "metadata": {},
   "cell_type": "markdown",
   "source": "构建tanh()",
   "id": "f2a33af88fdbed44"
  },
  {
   "metadata": {
    "ExecuteTime": {
     "end_time": "2025-04-03T03:14:00.190733Z",
     "start_time": "2025-04-03T03:14:00.172779Z"
    }
   },
   "cell_type": "code",
   "source": [
    "def tanh(z):\n",
    "    \"\"\"\n",
    "    参数：\n",
    "        z  输入参数，数组\n",
    "\n",
    "    返回：\n",
    "        s  tanh(z)\n",
    "    \"\"\"\n",
    "    s = (np.exp(z) - np.exp(-z)) / (np.exp(z) + np.exp(-z))\n",
    "    return s\n",
    "\n",
    "# 测试\n",
    "print(\"tanh(0) = \" + str(tanh(0)))\n",
    "print(\"tanh(9.2) = \" + str(tanh(9.2)))"
   ],
   "id": "9812e511a428773e",
   "outputs": [
    {
     "name": "stdout",
     "output_type": "stream",
     "text": [
      "tanh(0) = 0.0\n",
      "tanh(9.2) = 0.9999999795820786\n"
     ]
    }
   ],
   "execution_count": 13
  },
  {
   "metadata": {},
   "cell_type": "markdown",
   "source": "初始化参数w和b",
   "id": "c6f094fe50d3142"
  },
  {
   "metadata": {
    "ExecuteTime": {
     "end_time": "2025-04-03T03:15:06.443618Z",
     "start_time": "2025-04-03T03:15:06.432557Z"
    }
   },
   "cell_type": "code",
   "source": [
    "def initialize_with_zeros(dim):\n",
    "    \"\"\"\n",
    "    此函数为w创建一个维度为（dim，1）的0向量，并将b初始化为0。\n",
    "\n",
    "    参数：\n",
    "        dim  我们想要的w矢量的大小（或者这种情况下的参数数量）\n",
    "\n",
    "    返回：\n",
    "        w  权重，数组，维度为（dim，1）\n",
    "        b  偏差，标量\n",
    "    \"\"\"\n",
    "    w = np.zeros((dim, 1))\n",
    "    b = 0\n",
    "    # 使用断言来确保我要的数据是正确的 使用断言是为了在调试时更快地发现程序的错误 通过断言能“提前发现问题”\n",
    "    assert (w.shape == (dim, 1)), 'w维度错误' # w的维度是(dim,1)\n",
    "    assert (isinstance(b, float) or isinstance(b, int)), 'b维度错误' # b的类型是float或者是int\n",
    "\n",
    "    return w, b\n",
    "\n",
    "# 测试\n",
    "dim = 5\n",
    "w, b = initialize_with_zeros(dim)\n",
    "print(\"w = \" + str(w))\n",
    "print(\"b = \" + str(b))"
   ],
   "id": "189c0e509a5f827e",
   "outputs": [
    {
     "name": "stdout",
     "output_type": "stream",
     "text": [
      "w = [[0.]\n",
      " [0.]\n",
      " [0.]\n",
      " [0.]\n",
      " [0.]]\n",
      "b = 0\n"
     ]
    }
   ],
   "execution_count": 18
  },
  {
   "metadata": {},
   "cell_type": "markdown",
   "source": "实现一个计算成本函数及其渐变的函数propagate（）",
   "id": "ac905f7428abdcaa"
  },
  {
   "metadata": {
    "ExecuteTime": {
     "end_time": "2025-04-03T03:15:09.170234Z",
     "start_time": "2025-04-03T03:15:09.162159Z"
    }
   },
   "cell_type": "code",
   "source": [
    "def propagate(w, b, X, Y):\n",
    "    \"\"\"\n",
    "    实现前向和后向传播的成本函数及其梯度。\n",
    "    参数：\n",
    "        w  权重，数组，维度为（num_px * num_px * 3，1）\n",
    "        b  偏差，标量\n",
    "        X  数据集，维度为（num_px * num_px * 3，训练数量）\n",
    "        Y  真实标签，维度为（1，训练数据数量）\n",
    "\n",
    "    返回：\n",
    "        cost-损失函数的计算\n",
    "        dw-w的梯度，与w维度相同\n",
    "        db-b的梯度，与b维度相同\n",
    "    \"\"\"\n",
    "    m = X.shape[1]\n",
    "\n",
    "    # 前向传播\n",
    "    A = sigmoid(np.dot(w.T, X) + b) # 计算激活值\n",
    "    cost = (- 1 / m) * np.sum(Y * np.log(A) + (1 - Y) * np.log(1 - A)) # 计算成本 Logistics Regression仅有一个神经元，所以计算一个激活值就可以计算损失值\n",
    "\n",
    "    # 反向传播\n",
    "    dw = (1 / m) * np.dot(X, (A - Y).T)\n",
    "    db = (1 / m) * np.sum(A - Y)\n",
    "\n",
    "    # 使用断言确保我的数据是正确的\n",
    "    assert (dw.shape == w.shape), \"dw形状错误\"\n",
    "    assert (db.dtype == float), \"db数值类型错误\"\n",
    "    cost = np.squeeze(cost)\n",
    "    assert (cost.shape == ())\n",
    "\n",
    "    # 创建一个字典，保存dw和db\n",
    "    grads = {\n",
    "        \"dw\": dw,\n",
    "        \"db\": db\n",
    "    }\n",
    "    return (grads, cost)\n",
    "\n",
    "# 测试\n",
    "w, b, X, Y = np.array([[1.], [2.]]), 2., np.array([[1., 2., -1.], [3., 4., -3.2]]), np.array([[1, 0, 1]])\n",
    "grads, cost = propagate(w, b, X, Y)\n",
    "print(\"dw = \" + str(grads[\"dw\"]))\n",
    "print(\"db = \" + str(grads[\"db\"]))\n",
    "print(\"cost = \" + str(cost))"
   ],
   "id": "1d74c41cb9093a74",
   "outputs": [
    {
     "name": "stdout",
     "output_type": "stream",
     "text": [
      "dw = [[1.33331972]\n",
      " [3.46662312]]\n",
      "db = -0.3333197441203007\n",
      "cost = nan\n"
     ]
    },
    {
     "name": "stderr",
     "output_type": "stream",
     "text": [
      "C:\\Users\\www12\\AppData\\Local\\Temp\\ipykernel_87752\\3259389805.py:19: RuntimeWarning: invalid value encountered in log\n",
      "  cost = (- 1 / m) * np.sum(Y * np.log(A) + (1 - Y) * np.log(1 - A)) # 计算成本 Logistics Regression仅有一个神经元，所以计算一个激活值就可以计算损失值\n"
     ]
    }
   ],
   "execution_count": 19
  },
  {
   "metadata": {},
   "cell_type": "markdown",
   "source": "使用渐变下降更新参数 目标是通过最小化成本函数J来学习w和b.",
   "id": "20853f00993a0b63"
  },
  {
   "metadata": {
    "ExecuteTime": {
     "end_time": "2025-04-03T03:15:30.722506Z",
     "start_time": "2025-04-03T03:15:30.706515Z"
    }
   },
   "cell_type": "code",
   "source": [
    "def optmize(w, b, X, Y, num_iterations, learning_rate, print_cost = False):\n",
    "    \"\"\"\n",
    "    此函数通过运行梯度下降算法来优化w和b\n",
    "\n",
    "    参数：\n",
    "        w  - 权重，大小不等的数组（num_px * num_px * 3，1）\n",
    "        b  - 偏差，一个标量\n",
    "        X  - 维度为（num_px * num_px * 3，训练数据的数量）的数组。\n",
    "        Y  - 真正的“标签”矢量（如果非猫则为0，如果是猫则为1），矩阵维度为(1,训练数据的数量)\n",
    "        num_iterations  - 优化循环的迭代次数\n",
    "        learning_rate  - 梯度下降更新规则的学习率\n",
    "        print_cost  - 每100步打印一次损失值\n",
    "\n",
    "    返回：\n",
    "        params  - 包含权重w和偏差b的字典\n",
    "        grads  - 包含权重和偏差相对于成本函数的梯度的字典\n",
    "        成本 - 优化期间计算的所有成本列表，将用于绘制学习曲线。\n",
    "\n",
    "    提示：\n",
    "    我们需要写下两个步骤并遍历它们：\n",
    "        1）计算当前参数的成本和梯度，使用propagate（）。\n",
    "        2）使用w和b的梯度下降法则更新参数。\n",
    "    \"\"\"\n",
    "    costs = []\n",
    "\n",
    "    for i in range(num_iterations):\n",
    "\n",
    "        grads, cost = propagate(w, b, X, Y)\n",
    "\n",
    "        dw = grads[\"dw\"]\n",
    "        db = grads[\"db\"]\n",
    "\n",
    "        w = w - learning_rate * dw\n",
    "        b = b - learning_rate * db\n",
    "\n",
    "        # 记录成本\n",
    "        if i % 100 == 0:\n",
    "            costs.append(cost)\n",
    "\n",
    "        # 打印成本数据\n",
    "        if print_cost and i % 100 == 0:\n",
    "            print(\"迭代的次数: %i ， 误差值： %f\" % (i, cost))\n",
    "\n",
    "    params = {\n",
    "        \"w\": w,\n",
    "        \"b\": b\n",
    "    }\n",
    "\n",
    "    grads = {\n",
    "        \"dw\": dw,\n",
    "        \"db\": db\n",
    "    }\n",
    "\n",
    "    return (params, grads, costs)\n",
    "\n",
    "# 测试\n",
    "w, b, X, Y = np.array([[1.], [2.]]), 2., np.array([[1., 2., -1.], [3., 4., -3.2]]), np.array([[1, 0, 1]])\n",
    "params, grads, costs = optmize(w, b, X, Y, num_iterations= 100, learning_rate = 0.009, print_cost = False)\n",
    "print(\"w = \" + str(params[\"w\"]))\n",
    "print(\"b = \" + str(params[\"b\"]))\n",
    "print(\"dw = \" + str(grads[\"dw\"]))\n",
    "print(\"db = \" + str(grads[\"db\"]))\n",
    "print(\"costs = \" + str(costs))\n",
    "print(type(costs))\n",
    "\n"
   ],
   "id": "5e548266a824004d",
   "outputs": [
    {
     "name": "stdout",
     "output_type": "stream",
     "text": [
      "w = [[ 0.09710808]\n",
      " [-0.17525168]]\n",
      "b = 2.0151311550498887\n",
      "dw = [[0.59078616]\n",
      " [1.16272189]]\n",
      "db = 0.2754645708962542\n",
      "costs = [nan]\n",
      "<class 'list'>\n"
     ]
    },
    {
     "name": "stderr",
     "output_type": "stream",
     "text": [
      "C:\\Users\\www12\\AppData\\Local\\Temp\\ipykernel_87752\\3259389805.py:19: RuntimeWarning: invalid value encountered in log\n",
      "  cost = (- 1 / m) * np.sum(Y * np.log(A) + (1 - Y) * np.log(1 - A)) # 计算成本 Logistics Regression仅有一个神经元，所以计算一个激活值就可以计算损失值\n"
     ]
    }
   ],
   "execution_count": 20
  },
  {
   "metadata": {},
   "cell_type": "markdown",
   "source": "将预测值存储在向量Y_prediction中",
   "id": "40e703e1de998b0f"
  },
  {
   "metadata": {
    "ExecuteTime": {
     "end_time": "2025-04-03T03:15:47.472264Z",
     "start_time": "2025-04-03T03:15:47.460180Z"
    }
   },
   "cell_type": "code",
   "source": [
    "def predict(w, b, X):\n",
    "    \"\"\"\n",
    "    使用学习逻辑回归参数logistic （w，b）预测标签是0还是1，\n",
    "\n",
    "    参数：\n",
    "        w  - 权重，大小不等的数组（num_px * num_px * 3，1）\n",
    "        b  - 偏差，一个标量\n",
    "        X  - 维度为（num_px * num_px * 3，训练数据的数量）的数据\n",
    "\n",
    "    返回：\n",
    "        Y_prediction  - 包含X中所有图片的所有预测【0 | 1】的一个numpy数组（向量）\n",
    "\n",
    "    \"\"\"\n",
    "    m = X.shape[1]\n",
    "    Y_prediction = np.zeros((1, m)) # 初始化（1，m）的0向量\n",
    "    w = w.reshape(X.shape[0], 1) # 重塑w，使其与X维度相同\n",
    "\n",
    "    # 预测\n",
    "    A = sigmoid(np.dot(w.T, X) + b)\n",
    "    for i in range(A.shape[1]):\n",
    "        Y_prediction[0, i] = 1 if A[0, i] > 0.5 else 0\n",
    "\n",
    "    assert (Y_prediction.shape == (1, m))\n",
    "\n",
    "    return Y_prediction\n",
    "\n",
    "# 测试\n",
    "w, b, X, Y = np.array([[1], [2]]), 2, np.array([[1,2], [3,4]]), np.array([[1, 0]])\n",
    "print(\"predictions = \" + str(predict(w, b, X)))"
   ],
   "id": "f8312dd3d6d9b67d",
   "outputs": [
    {
     "name": "stdout",
     "output_type": "stream",
     "text": [
      "predictions = [[1. 1.]]\n"
     ]
    }
   ],
   "execution_count": 22
  },
  {
   "metadata": {},
   "cell_type": "markdown",
   "source": "把这些函数统统整合到一个model()函数中，届时只需要调用一个model()就基本上完成所有的事了。",
   "id": "1bef413dcd14ae88"
  },
  {
   "metadata": {
    "ExecuteTime": {
     "end_time": "2025-04-03T03:15:51.306885Z",
     "start_time": "2025-04-03T03:15:50.173814Z"
    }
   },
   "cell_type": "code",
   "source": [
    "def model(X_train, Y_train, X_test, Y_test, num_iterations = 2000, learning_rate = 0.5, print_cost = False):\n",
    "    \"\"\"\n",
    "    通过调用之前实现的函数来构建逻辑回归模型\n",
    "\n",
    "    参数：\n",
    "        X_train  - numpy的数组,维度为（num_px * num_px * 3，m_train）的训练集\n",
    "        Y_train  - numpy的数组,维度为（1，m_train）（矢量）的训练标签集\n",
    "        X_test   - numpy的数组,维度为（num_px * num_px * 3，m_test）的测试集\n",
    "        Y_test   - numpy的数组,维度为（1，m_test）的（向量）的测试标签集\n",
    "        num_iterations  - 表示用于优化参数的迭代次数的超参数\n",
    "        learning_rate  - 表示optimize（）更新规则中使用的学习速率的超参数\n",
    "        print_cost  - 设置为true以每100次迭代打印成本\n",
    "\n",
    "    返回：\n",
    "        d  - 包含有关模型信息的字典。\n",
    "    \"\"\"\n",
    "    w, b = initialize_with_zeros(X_train.shape[0])\n",
    "\n",
    "    parameters, grads, costs = optmize(w, b, X_train, Y_train, num_iterations, learning_rate, print_cost)\n",
    "\n",
    "    # 从字典“参数”中检索参数w和b\n",
    "    w, b = parameters[\"w\"], parameters[\"b\"]\n",
    "\n",
    "    # 预测测试/训练集的例子\n",
    "    Y_prediction_test = predict(w, b, X_test)\n",
    "    Y_prediction_train = predict(w, b, X_train)\n",
    "\n",
    "    # 打印训练后的准确性\n",
    "    print(\"训练集准确性：\", format(100 - np.mean(np.abs(Y_prediction_train - Y_train)) * 100), \"%\")\n",
    "    print(\"测试集准确性：\", format(100 - np.mean(np.abs(Y_prediction_test - Y_test)) * 100), \"%\")\n",
    "\n",
    "    # 将“参数”、“预测”和“成本”包装在字典中\n",
    "    d = {\n",
    "        \"costs\": costs,\n",
    "        \"Y_prediction_test\": Y_prediction_test,\n",
    "        \"Y_prediction_train\": Y_prediction_train,\n",
    "        \"w\": w,\n",
    "        \"b\": b,\n",
    "        \"learning_rate\": learning_rate,\n",
    "        \"num_iterations\": num_iterations\n",
    "    }\n",
    "\n",
    "    return d\n",
    "\n",
    "# 测试\n",
    "d = model(train_set_x, train_set_y, test_set_x, test_set_y, num_iterations = 2000, learning_rate = 0.005, print_cost = True)\n",
    "\n",
    "\n",
    "#绘制图\n",
    "costs = np.squeeze(d['costs'])\n",
    "print(costs)\n",
    "# plt.plot(costs)\n",
    "# plt.ylabel('cost')\n",
    "# plt.xlabel('iterations (per hundreds)')\n",
    "# plt.title(\"Learning rate =\" + str(d[\"learning_rate\"]))\n",
    "# plt.show()\n"
   ],
   "id": "664e5727c0e99a1e",
   "outputs": [
    {
     "name": "stderr",
     "output_type": "stream",
     "text": [
      "C:\\Users\\www12\\AppData\\Local\\Temp\\ipykernel_87752\\3259389805.py:19: RuntimeWarning: divide by zero encountered in log\n",
      "  cost = (- 1 / m) * np.sum(Y * np.log(A) + (1 - Y) * np.log(1 - A)) # 计算成本 Logistics Regression仅有一个神经元，所以计算一个激活值就可以计算损失值\n",
      "C:\\Users\\www12\\AppData\\Local\\Temp\\ipykernel_87752\\3259389805.py:19: RuntimeWarning: invalid value encountered in multiply\n",
      "  cost = (- 1 / m) * np.sum(Y * np.log(A) + (1 - Y) * np.log(1 - A)) # 计算成本 Logistics Regression仅有一个神经元，所以计算一个激活值就可以计算损失值\n",
      "C:\\Users\\www12\\AppData\\Local\\Temp\\ipykernel_87752\\3259389805.py:19: RuntimeWarning: invalid value encountered in log\n",
      "  cost = (- 1 / m) * np.sum(Y * np.log(A) + (1 - Y) * np.log(1 - A)) # 计算成本 Logistics Regression仅有一个神经元，所以计算一个激活值就可以计算损失值\n"
     ]
    },
    {
     "name": "stdout",
     "output_type": "stream",
     "text": [
      "迭代的次数: 0 ， 误差值： nan\n",
      "迭代的次数: 100 ， 误差值： nan\n",
      "迭代的次数: 200 ， 误差值： nan\n",
      "迭代的次数: 300 ， 误差值： 10.784661\n",
      "迭代的次数: 400 ， 误差值： nan\n",
      "迭代的次数: 500 ， 误差值： nan\n",
      "迭代的次数: 600 ， 误差值： nan\n",
      "迭代的次数: 700 ， 误差值： nan\n",
      "迭代的次数: 800 ， 误差值： nan\n",
      "迭代的次数: 900 ， 误差值： nan\n",
      "迭代的次数: 1000 ， 误差值： nan\n",
      "迭代的次数: 1100 ， 误差值： 3.254882\n",
      "迭代的次数: 1200 ， 误差值： nan\n",
      "迭代的次数: 1300 ， 误差值： nan\n",
      "迭代的次数: 1400 ， 误差值： 5.704639\n",
      "迭代的次数: 1500 ， 误差值： 6.082736\n",
      "迭代的次数: 1600 ， 误差值： 6.144954\n",
      "迭代的次数: 1700 ， 误差值： nan\n",
      "迭代的次数: 1800 ， 误差值： nan\n",
      "迭代的次数: 1900 ， 误差值： nan\n",
      "训练集准确性： 98.56459330143541 %\n",
      "测试集准确性： 60.0 %\n",
      "[        nan         nan         nan 10.78466077         nan         nan\n",
      "         nan         nan         nan         nan         nan  3.25488232\n",
      "         nan         nan  5.7046391   6.08273579  6.14495428         nan\n",
      "         nan         nan]\n"
     ]
    }
   ],
   "execution_count": 23
  },
  {
   "metadata": {},
   "cell_type": "markdown",
   "source": "画图\n",
   "id": "a9a53970ddbdc76e"
  },
  {
   "metadata": {
    "ExecuteTime": {
     "end_time": "2025-04-03T03:16:02.481586Z",
     "start_time": "2025-04-03T03:16:02.396011Z"
    }
   },
   "cell_type": "code",
   "source": [
    "costs = np.squeeze(d['costs'])\n",
    "plt.plot(costs)\n",
    "plt.ylabel('cost')\n",
    "plt.xlabel('iterations (per hundreds)')\n",
    "plt.title(\"Learning rate =\" + str(d[\"learning_rate\"]))\n",
    "plt.show()"
   ],
   "id": "306cb4074ec45b68",
   "outputs": [
    {
     "data": {
      "text/plain": [
       "<Figure size 640x480 with 1 Axes>"
      ],
      "image/png": "[encoded data removed]"
     },
     "metadata": {},
     "output_type": "display_data"
    }
   ],
   "execution_count": 24
  },
  {
   "metadata": {},
   "cell_type": "markdown",
   "source": [
    "进一步分析一下，并研究学习率alpha的可能选择。为了让渐变下降起作用，我们必须明智地选择学习速率。学习率α \\alphaα 决定了我们更新参数的速度。如果学习率过高，我们可能会“超过”最优值。同样，如果它太小，我们将需要太多迭代才能收敛到最佳值。这就是为什么使用良好调整的学习率至关重要的原因。\n",
    "\n",
    "我们可以比较一下我们模型的学习曲线和几种学习速率的选择。也可以尝试使用不同于我们初始化的learning_rates变量包含的三个值，并看一下会发生什么。"
   ],
   "id": "b85434f8c28f7f94"
  },
  {
   "metadata": {},
   "cell_type": "code",
   "source": [
    "learning_rates = [0.01, 0.001, 0.0001]\n",
    "models = {}\n",
    "for i in learning_rates:\n",
    "    print (\"learning rate is: \" + str(i))\n",
    "    models[str(i)] = model(train_set_x, train_set_y, test_set_x, test_set_y, num_iterations = 1500, learning_rate = i, print_cost = False)\n",
    "    print ('\\n' + \"-------------------------------------------------------\" + '\\n')\n",
    "\n",
    "for i in learning_rates:\n",
    "    plt.plot(np.squeeze(models[str(i)][\"costs\"]), label= str(models[str(i)][\"learning_rate\"]))\n",
    "\n",
    "plt.ylabel('cost')\n",
    "plt.xlabel('iterations')\n",
    "\n",
    "legend = plt.legend(loc='upper center', shadow=True)\n",
    "frame = legend.get_frame()\n",
    "frame.set_facecolor('0.90')\n",
    "plt.show()\n"
   ],
   "id": "6b31200495c2b29d",
   "outputs": [],
   "execution_count": null
  }
 ],
 "metadata": {
  "kernelspec": {
   "display_name": "Python 3",
   "language": "python",
   "name": "python3"
  },
  "language_info": {
   "codemirror_mode": {
    "name": "ipython",
    "version": 2
   },
   "file_extension": ".py",
   "mimetype": "text/x-python",
   "name": "python",
   "nbconvert_exporter": "python",
   "pygments_lexer": "ipython2",
   "version": "2.7.6"
  }
 },
 "nbformat": 4,
 "nbformat_minor": 5
}
