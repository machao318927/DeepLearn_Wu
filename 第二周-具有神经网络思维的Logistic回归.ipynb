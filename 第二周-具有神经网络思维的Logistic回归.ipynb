{
 "cells": [
  {
   "metadata": {},
   "cell_type": "markdown",
   "source": "查看dataset的train部分",
   "id": "25bd888cf0088a82"
  },
  {
   "metadata": {
    "collapsed": true
   },
   "cell_type": "code",
   "source": [
    "import h5py\n",
    "import matplotlib.pyplot as plt\n",
    "\n",
    "with h5py.File('datasets/train_catvnoncat.h5', \"r\") as train_dataset:\n",
    "    # 列出所有组和数据集\n",
    "    print(\"所有组和数据集：\")\n",
    "    for name, obj in train_dataset.items():\n",
    "        print(name, obj)\n",
    "\n",
    "    dataset_x = train_dataset['train_set_x']\n",
    "    dataset_y = train_dataset['train_set_y']\n",
    "    print(dataset_x)\n",
    "    print(dataset_y)\n",
    "\n",
    "    # 打印数据集内容\n",
    "    # 打印数据集的形状\n",
    "    print(\"train_set_x的形状:\", dataset_x.shape)\n",
    "    print(\"train_set_y的形状:\", dataset_y.shape)\n",
    "    # 打印数据集的前5个元素\n",
    "    print(\"train_set_x前5个元素:\", dataset_x[:5])\n",
    "    print(\"train_set_y前5个元素:\", dataset_y[:5])\n",
    "\n",
    "    # 分类标签\n",
    "    list_classes = train_dataset['list_classes']\n",
    "    print(\"分类标签:\", list_classes[:])\n",
    "\n",
    "    # 可视化\n",
    "    for i in range(10):\n",
    "        plt.figure(figsize=(2, 2))\n",
    "        plt.imshow(dataset_x[i])\n",
    "        plt.title(f\"Label: {list_classes[dataset_y[i]].decode()}\")\n",
    "        plt.axis('off')\n",
    "        plt.show()"
   ],
   "id": "initial_id",
   "outputs": [],
   "execution_count": null
  }
 ],
 "metadata": {
  "kernelspec": {
   "display_name": "Python 3",
   "language": "python",
   "name": "python3"
  },
  "language_info": {
   "codemirror_mode": {
    "name": "ipython",
    "version": 2
   },
   "file_extension": ".py",
   "mimetype": "text/x-python",
   "name": "python",
   "nbconvert_exporter": "python",
   "pygments_lexer": "ipython2",
   "version": "2.7.6"
  }
 },
 "nbformat": 4,
 "nbformat_minor": 5
}
