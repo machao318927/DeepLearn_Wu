{
 "cells": [
  {
   "metadata": {},
   "cell_type": "markdown",
   "source": "查看dataset的train部分",
   "id": "25bd888cf0088a82"
  },
  {
   "metadata": {
    "collapsed": true
   },
   "cell_type": "code",
   "source": [
    "import h5py\n",
    "import matplotlib.pyplot as plt\n",
    "\n",
    "with h5py.File('datasets/train_catvnoncat.h5', \"r\") as train_dataset:\n",
    "    # 列出所有组和数据集\n",
    "    print(\"所有组和数据集：\")\n",
    "    for name, obj in train_dataset.items():\n",
    "        print(name, obj)\n",
    "\n",
    "    dataset_x = train_dataset['train_set_x']\n",
    "    dataset_y = train_dataset['train_set_y']\n",
    "    print(dataset_x)\n",
    "    print(dataset_y)\n",
    "\n",
    "    # 打印数据集内容\n",
    "    # 打印数据集的形状\n",
    "    print(\"train_set_x的形状:\", dataset_x.shape)\n",
    "    print(\"train_set_y的形状:\", dataset_y.shape)\n",
    "    # 打印数据集的前5个元素\n",
    "    print(\"train_set_x前5个元素:\", dataset_x[:5])\n",
    "    print(\"train_set_y前5个元素:\", dataset_y[:5])\n",
    "\n",
    "    # 分类标签\n",
    "    list_classes = train_dataset['list_classes']\n",
    "    print(\"分类标签:\", list_classes[:])\n",
    "\n",
    "    # 可视化\n",
    "    for i in range(10):\n",
    "        plt.figure(figsize=(2, 2))\n",
    "        plt.imshow(dataset_x[i])\n",
    "        plt.title(f\"Label: {list_classes[dataset_y[i]].decode()}\")\n",
    "        plt.axis('off')\n",
    "        plt.show()"
   ],
   "id": "initial_id",
   "outputs": [],
   "execution_count": null
  },
  {
   "metadata": {},
   "cell_type": "markdown",
   "source": "所需要的库",
   "id": "b1cce66368d4d2a1"
  },
  {
   "metadata": {
    "ExecuteTime": {
     "end_time": "2025-04-01T08:28:57.218368Z",
     "start_time": "2025-04-01T08:28:57.204888Z"
    }
   },
   "cell_type": "code",
   "source": [
    "import numpy as np\n",
    "import matplotlib.pyplot as plt\n",
    "import h5py"
   ],
   "id": "754dab6d72c8dd93",
   "outputs": [],
   "execution_count": 43
  },
  {
   "metadata": {},
   "cell_type": "markdown",
   "source": "训练数据加载函数",
   "id": "f847bdcba82e4fa6"
  },
  {
   "metadata": {
    "ExecuteTime": {
     "end_time": "2025-04-01T08:28:56.332881Z",
     "start_time": "2025-04-01T08:28:56.318587Z"
    }
   },
   "cell_type": "code",
   "source": [
    "def load_dataset():\n",
    "\n",
    "    # 读取训练集\n",
    "    train_dataset = h5py.File('datasets/train_catvnoncat.h5', \"r\")\n",
    "    train_set_x_orig = np.array(train_dataset['train_set_x'][:]) # 加 [:] 是把数据从 h5py.Dataset 转换为 numpy.ndarray;外层再用 np.array() 是为了确保类型一致（有时是冗余的，但保险）。\n",
    "    train_set_y_orig = np.array(train_dataset['train_set_y'][:])\n",
    "\n",
    "    # 读取测试集\n",
    "    test_dataset = h5py.File('datasets/test_catvnoncat.h5', \"r\")\n",
    "    test_set_x_orig = np.array(test_dataset['test_set_x'][:])\n",
    "    test_set_y_orig = np.array(test_dataset['test_set_y'][:])\n",
    "\n",
    "    # 获取类别标签\n",
    "    classes = np.array(test_dataset['list_classes'][:])\n",
    "\n",
    "    # 标签 reshape 处理\n",
    "    train_set_y_orig = train_set_y_orig.reshape((1, train_set_y_orig.shape[0])) # 原始标签形状是 (m,)，现在 reshape 成 (1, m)，很多神经网络实现中要求标签是形如 (1, m) 的二维数组\n",
    "    test_set_y_orig = test_set_y_orig.reshape((1, test_set_y_orig.shape[0]))\n",
    "\n",
    "    # 返回所有数据\n",
    "    return train_set_x_orig, train_set_y_orig, test_set_x_orig, test_set_y_orig, classes"
   ],
   "id": "3b780c03c3307aa6",
   "outputs": [],
   "execution_count": 42
  },
  {
   "metadata": {},
   "cell_type": "markdown",
   "source": "测试\n",
   "id": "95d5887dde162c8b"
  },
  {
   "metadata": {
    "ExecuteTime": {
     "end_time": "2025-04-01T08:28:59.100275Z",
     "start_time": "2025-04-01T08:28:59.081633Z"
    }
   },
   "cell_type": "code",
   "source": [
    "X_train, Y_train, X_test, Y_test, classes = load_dataset()\n",
    "print(\"训练集中包含图片数量：\", X_train.shape[0])\n",
    "print(\"每张图像的形状：\", X_train.shape[1:])"
   ],
   "id": "9fa55532b8275146",
   "outputs": [
    {
     "name": "stdout",
     "output_type": "stream",
     "text": [
      "训练集中包含图片数量： 209\n",
      "每张图像的形状： (64, 64, 3)\n"
     ]
    }
   ],
   "execution_count": 44
  }
 ],
 "metadata": {
  "kernelspec": {
   "display_name": "Python 3",
   "language": "python",
   "name": "python3"
  },
  "language_info": {
   "codemirror_mode": {
    "name": "ipython",
    "version": 2
   },
   "file_extension": ".py",
   "mimetype": "text/x-python",
   "name": "python",
   "nbconvert_exporter": "python",
   "pygments_lexer": "ipython2",
   "version": "2.7.6"
  }
 },
 "nbformat": 4,
 "nbformat_minor": 5
}
