{
 "cells": [
  {
   "metadata": {},
   "cell_type": "markdown",
   "source": "请问B.shape的值是多少?",
   "id": "32915eed04b423e4"
  },
  {
   "metadata": {
    "collapsed": true,
    "ExecuteTime": {
     "end_time": "2025-04-03T03:26:53.929630Z",
     "start_time": "2025-04-03T03:26:53.917369Z"
    }
   },
   "cell_type": "code",
   "source": [
    "import numpy as np\n",
    "\n",
    "A = np.random.randn(4, 3)\n",
    "print(A)\n",
    "B = np.sum(A, axis=1, keepdims=True)\n",
    "print(B)\n",
    "print(B.shape)"
   ],
   "id": "initial_id",
   "outputs": [
    {
     "name": "stdout",
     "output_type": "stream",
     "text": [
      "[[-0.5771457   0.56908187  0.40496354]\n",
      " [ 0.31571351  1.26269903  0.33956045]\n",
      " [ 0.2214815   0.61329401  0.4958941 ]\n",
      " [ 0.44433857  0.03982008 -0.74582244]]\n",
      "[[ 0.3968997 ]\n",
      " [ 1.91797299]\n",
      " [ 1.3306696 ]\n",
      " [-0.26166379]]\n",
      "(4, 1)\n"
     ]
    }
   ],
   "execution_count": 2
  },
  {
   "metadata": {},
   "cell_type": "markdown",
   "source": "当3个神经元的权重初始化为0时，它们会始终保持相同的行为，无法学出不同的特征。",
   "id": "424129a6430358c1"
  },
  {
   "metadata": {
    "ExecuteTime": {
     "end_time": "2025-04-03T03:44:12.601612Z",
     "start_time": "2025-04-03T03:44:12.586359Z"
    }
   },
   "cell_type": "code",
   "source": [
    "import numpy as np\n",
    "\n",
    "def sigmoid(z):\n",
    "    return 1 / (1 + np.exp(-z))\n",
    "\n",
    "# 输入数据 X: (2, 2)，2维输入，有2个样本\n",
    "X = np.array([[1, 2],\n",
    "              [3, 4]])  # shape = (2, 2)\n",
    "\n",
    "# 真实标签 Y: 3个神经元 × 2个样本\n",
    "Y = np.array([[1, 0],\n",
    "              [0, 1],\n",
    "              [1, 0]])  # shape = (3, 2)\n",
    "\n",
    "# 初始化权重和偏置，全为0\n",
    "W = np.zeros((3, 2))  # 3个神经元，每个2个输入特征\n",
    "b = np.zeros((3, 1))  # 每个神经元一个偏置项\n",
    "\n",
    "# 前向传播\n",
    "Z = np.dot(W, X) + b        # shape = (3, 2)\n",
    "A = sigmoid(Z)              # shape = (3, 2)\n",
    "\n",
    "# 计算损失（MSE）\n",
    "loss = np.mean((A - Y) ** 2)\n",
    "\n",
    "# 反向传播（MSE对sigmoid输出求导）\n",
    "dA = 2 * (A - Y) / Y.shape[1]  # 均方误差梯度\n",
    "\n",
    "# sigmoid 的导数\n",
    "dZ = dA * A * (1 - A)\n",
    "\n",
    "# 计算梯度\n",
    "dW = np.dot(dZ, X.T) / X.shape[1]\n",
    "db = np.sum(dZ, axis=1, keepdims=True) / X.shape[1]\n",
    "\n",
    "# 更新参数\n",
    "learning_rate = 0.1\n",
    "W = W - learning_rate * dW\n",
    "b = b - learning_rate * db\n",
    "\n",
    "# 输出每个神经元的权重和偏置\n",
    "for i in range(3):\n",
    "    print(f\"神经元{i+1}：W = {W[i]}, b = {b[i][0]}\")\n"
   ],
   "id": "2cd096fa1c29dd65",
   "outputs": [
    {
     "name": "stdout",
     "output_type": "stream",
     "text": [
      "神经元1：W = [-0.00625 -0.00625], b = 0.0\n",
      "神经元2：W = [0.00625 0.00625], b = 0.0\n",
      "神经元3：W = [-0.00625 -0.00625], b = 0.0\n"
     ]
    }
   ],
   "execution_count": 16
  }
 ],
 "metadata": {
  "kernelspec": {
   "display_name": "Python 3",
   "language": "python",
   "name": "python3"
  },
  "language_info": {
   "codemirror_mode": {
    "name": "ipython",
    "version": 2
   },
   "file_extension": ".py",
   "mimetype": "text/x-python",
   "name": "python",
   "nbconvert_exporter": "python",
   "pygments_lexer": "ipython2",
   "version": "2.7.6"
  }
 },
 "nbformat": 4,
 "nbformat_minor": 5
}
