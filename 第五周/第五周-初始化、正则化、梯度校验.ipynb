{
 "cells": [
  {
   "metadata": {},
   "cell_type": "markdown",
   "source": [
    "1. 初始化参数：\n",
    "\t1.1：使用0来初始化参数。\n",
    "\t1.2：使用随机数来初始化参数。\n",
    "\t1.3：使用抑梯度异常初始化参数（参见视频中的梯度消失和梯度爆炸）。\n",
    "2. 正则化模型：\n",
    "\t2.1：使用二范数对二分类模型正则化，尝试避免过拟合。\n",
    "\t2.2：使用随机删除节点的方法精简模型，同样是为了尝试避免过拟合。\n",
    "3. 梯度校验  ：对模型使用梯度校验，检测它是否在梯度下降的过程中出现误差过大的情况。\n"
   ],
   "id": "2a7407af33ef365a"
  },
  {
   "metadata": {},
   "cell_type": "code",
   "outputs": [],
   "execution_count": null,
   "source": [
    "# 导库\n",
    "import numpy as np\n",
    "import "
   ],
   "id": "4298d1bcec4d818"
  }
 ],
 "metadata": {
  "kernelspec": {
   "display_name": "Python 3",
   "language": "python",
   "name": "python3"
  },
  "language_info": {
   "codemirror_mode": {
    "name": "ipython",
    "version": 2
   },
   "file_extension": ".py",
   "mimetype": "text/x-python",
   "name": "python",
   "nbconvert_exporter": "python",
   "pygments_lexer": "ipython2",
   "version": "2.7.6"
  }
 },
 "nbformat": 4,
 "nbformat_minor": 5
}
